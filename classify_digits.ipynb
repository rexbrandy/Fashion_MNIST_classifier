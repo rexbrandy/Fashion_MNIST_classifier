{
  "nbformat": 4,
  "nbformat_minor": 0,
  "metadata": {
    "colab": {
      "provenance": [],
      "authorship_tag": "ABX9TyM1zUFvbbo+3cf+mfDvw1S1",
      "include_colab_link": true
    },
    "kernelspec": {
      "name": "python3",
      "display_name": "Python 3"
    },
    "language_info": {
      "name": "python"
    }
  },
  "cells": [
    {
      "cell_type": "markdown",
      "metadata": {
        "id": "view-in-github",
        "colab_type": "text"
      },
      "source": [
        "<a href=\"https://colab.research.google.com/github/rexbrandy/classify_digits/blob/main/classify_digits.ipynb\" target=\"_parent\"><img src=\"https://colab.research.google.com/assets/colab-badge.svg\" alt=\"Open In Colab\"/></a>"
      ]
    },
    {
      "cell_type": "code",
      "execution_count": 1,
      "metadata": {
        "id": "jqBjJG7NX-ib"
      },
      "outputs": [],
      "source": [
        "import torch\n",
        "from torch.utils.data import DataLoader\n",
        "from torchvision import datasets\n",
        "from torchvision.transforms import ToTensor\n",
        "\n",
        "\n",
        "def get_dataloaders(batch_size=64, visualize=True):\n",
        "    train_dataset = datasets.FashionMNIST(\n",
        "        root='data',\n",
        "        train=True,\n",
        "        download=True,\n",
        "        transform=ToTensor()\n",
        "    )\n",
        "\n",
        "    test_dataset = datasets.FashionMNIST(\n",
        "        root='data',\n",
        "        train=False,\n",
        "        download=True,\n",
        "        transform=ToTensor()\n",
        "    )\n",
        "\n",
        "    train_dataloader = DataLoader(train_dataset, batch_size=batch_size, shuffle=True)\n",
        "    test_dataloader = DataLoader(test_dataset, batch_size=batch_size, shuffle=True)\n",
        "\n",
        "    if visualize:\n",
        "        visualize_data(train_dataset)\n",
        "\n",
        "    return train_dataloader, test_dataloader\n"
      ]
    },
    {
      "cell_type": "code",
      "source": [
        "import matplotlib.pyplot as plt\n",
        "\n",
        "\n",
        "def visualize_data(training_data):\n",
        "    labels_map = {\n",
        "        0: \"T-Shirt\",\n",
        "        1: \"Trouser\",\n",
        "        2: \"Pullover\",\n",
        "        3: \"Dress\",\n",
        "        4: \"Coat\",\n",
        "        5: \"Sandal\",\n",
        "        6: \"Shirt\",\n",
        "        7: \"Sneaker\",\n",
        "        8: \"Bag\",\n",
        "        9: \"Ankle Boot\",\n",
        "    }\n",
        "    figure = plt.figure(figsize=(8, 8))\n",
        "    cols, rows = 3, 3\n",
        "    for i in range(1, cols * rows + 1):\n",
        "        sample_idx = torch.randint(len(training_data), size=(1,)).item()\n",
        "        img, label = training_data[sample_idx]\n",
        "        figure.add_subplot(rows, cols, i)\n",
        "        plt.title(labels_map[label])\n",
        "        plt.axis(\"off\")\n",
        "        plt.imshow(img.squeeze(), cmap=\"gray\")\n",
        "    plt.show()\n",
        "\n"
      ],
      "metadata": {
        "id": "CirMQw6sd_Qi"
      },
      "execution_count": 2,
      "outputs": []
    },
    {
      "cell_type": "code",
      "source": [
        "import torch.nn as nn\n",
        "\n",
        "class FeedForwardNet(nn.Module):\n",
        "    def __init__(self):\n",
        "        super(FeedForwardNet, self).__init__()\n",
        "        self.flatten = nn.Flatten\n",
        "\n",
        "        self.sequential = nn.Sequential(\n",
        "            nn.Linear(28*28, 512),\n",
        "            nn.Linear(512, 128),\n",
        "            nn.Linear(128, 10),\n",
        "        )\n",
        "\n",
        "    def forward(self, x):\n",
        "        output = self.flatten(x)\n",
        "        output = self.sequential(output)\n",
        "\n",
        "        return output\n"
      ],
      "metadata": {
        "id": "-tuKBD1KjLpc"
      },
      "execution_count": 3,
      "outputs": []
    },
    {
      "cell_type": "code",
      "source": [
        "def train(model, dataloader, criterion, optimizer, n_epochs=20):\n",
        "    model.train()\n",
        "\n",
        "    epoch_loss = []\n",
        "\n",
        "    for epoch in range(n_epochs):\n",
        "        for batch, (X, y) in enumerate(dataloader):\n",
        "            pred = model(X)\n",
        "            loss = criterion(pred, y)\n",
        "\n",
        "            loss.backprop()\n",
        "\n",
        "            optimizer.step()\n",
        "            optimizer.zero_grad()\n",
        "\n"
      ],
      "metadata": {
        "id": "beod1gkXBE3m"
      },
      "execution_count": 12,
      "outputs": []
    },
    {
      "cell_type": "code",
      "source": [
        "n_epochs = 20\n",
        "lr = 0.01\n",
        "\n",
        "model = FeedForwardNet()\n",
        "criterion = nn.CrossEntropyLoss()\n",
        "optim = torch.optim.SGD(model.parameters(), lr=lr)\n",
        "\n",
        "training_dataloader, test_dataloader = get_dataloaders(visualize=False)\n",
        "\n",
        "train(model, training_dataloader, criterion, optim, n_epochs)\n"
      ],
      "metadata": {
        "colab": {
          "base_uri": "https://localhost:8080/"
        },
        "id": "F3xtv6Uff7R6",
        "outputId": "6fb64685-f0f3-4c07-b80b-341e81c207e2"
      },
      "execution_count": 11,
      "outputs": [
        {
          "output_type": "stream",
          "name": "stdout",
          "text": [
            "0\n",
            "0\n",
            "0\n",
            "0\n",
            "0\n",
            "0\n",
            "0\n",
            "0\n",
            "0\n",
            "0\n",
            "0\n",
            "0\n",
            "0\n",
            "0\n",
            "0\n",
            "0\n",
            "0\n",
            "0\n",
            "0\n",
            "0\n"
          ]
        }
      ]
    }
  ]
}