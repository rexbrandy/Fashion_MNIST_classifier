{
  "nbformat": 4,
  "nbformat_minor": 0,
  "metadata": {
    "colab": {
      "provenance": [],
      "authorship_tag": "ABX9TyOWxYSHkAK0Xzm3EZQXmTSw",
      "include_colab_link": true
    },
    "kernelspec": {
      "name": "python3",
      "display_name": "Python 3"
    },
    "language_info": {
      "name": "python"
    }
  },
  "cells": [
    {
      "cell_type": "markdown",
      "metadata": {
        "id": "view-in-github",
        "colab_type": "text"
      },
      "source": [
        "<a href=\"https://colab.research.google.com/github/rexbrandy/classify_digits/blob/main/classify_digits.ipynb\" target=\"_parent\"><img src=\"https://colab.research.google.com/assets/colab-badge.svg\" alt=\"Open In Colab\"/></a>"
      ]
    },
    {
      "cell_type": "markdown",
      "source": [
        "# Fashion MNIST Feed Forward Network\n",
        "\n",
        "This is a feed forward network that is trained to identify articles of clothing. It is trained with the fashion MNIST dataset. It is a small network with 3 linear layers with ReLu activation."
      ],
      "metadata": {
        "id": "rrlPjg5ob2dX"
      }
    },
    {
      "cell_type": "markdown",
      "source": [
        "### Dataloading"
      ],
      "metadata": {
        "id": "alKtqf96cbE5"
      }
    },
    {
      "cell_type": "code",
      "execution_count": 7,
      "metadata": {
        "id": "jqBjJG7NX-ib"
      },
      "outputs": [],
      "source": [
        "import torch\n",
        "from torch.utils.data import DataLoader\n",
        "from torchvision import datasets\n",
        "from torchvision.transforms import ToTensor\n",
        "\n",
        "\n",
        "def get_dataloaders(batch_size=64, visualize=True):\n",
        "    train_dataset = datasets.FashionMNIST(\n",
        "        root='data',\n",
        "        train=True,\n",
        "        download=True,\n",
        "        transform=ToTensor()\n",
        "    )\n",
        "\n",
        "    test_dataset = datasets.FashionMNIST(\n",
        "        root='data',\n",
        "        train=False,\n",
        "        download=True,\n",
        "        transform=ToTensor()\n",
        "    )\n",
        "\n",
        "    train_dataloader = DataLoader(train_dataset, batch_size=batch_size, shuffle=True)\n",
        "    test_dataloader = DataLoader(test_dataset, batch_size=batch_size, shuffle=True)\n",
        "\n",
        "    if visualize:\n",
        "        visualize_data(train_dataset)\n",
        "\n",
        "    return train_dataloader, test_dataloader\n"
      ]
    },
    {
      "cell_type": "markdown",
      "source": [],
      "metadata": {
        "id": "FokIDsc1cfey"
      }
    },
    {
      "cell_type": "code",
      "source": [
        "import matplotlib.pyplot as plt\n",
        "\n",
        "\n",
        "def visualize_data(training_data):\n",
        "    labels_map = {\n",
        "        0: \"T-Shirt\",\n",
        "        1: \"Trouser\",\n",
        "        2: \"Pullover\",\n",
        "        3: \"Dress\",\n",
        "        4: \"Coat\",\n",
        "        5: \"Sandal\",\n",
        "        6: \"Shirt\",\n",
        "        7: \"Sneaker\",\n",
        "        8: \"Bag\",\n",
        "        9: \"Ankle Boot\",\n",
        "    }\n",
        "    figure = plt.figure(figsize=(8, 8))\n",
        "    cols, rows = 3, 3\n",
        "    for i in range(1, cols * rows + 1):\n",
        "        sample_idx = torch.randint(len(training_data), size=(1,)).item()\n",
        "        img, label = training_data[sample_idx]\n",
        "        figure.add_subplot(rows, cols, i)\n",
        "        plt.title(labels_map[label])\n",
        "        plt.axis(\"off\")\n",
        "        plt.imshow(img.squeeze(), cmap=\"gray\")\n",
        "    plt.show()\n",
        "\n"
      ],
      "metadata": {
        "id": "CirMQw6sd_Qi"
      },
      "execution_count": 5,
      "outputs": []
    },
    {
      "cell_type": "code",
      "source": [
        "import torch.nn as nn\n",
        "\n",
        "class FeedForwardNet(nn.Module):\n",
        "    def __init__(self):\n",
        "        super(FeedForwardNet, self).__init__()\n",
        "        self.flatten = nn.Flatten()\n",
        "\n",
        "        self.sequential = nn.Sequential(\n",
        "            nn.Linear(28*28, 512),\n",
        "            nn.Linear(512, 128),\n",
        "            nn.Linear(128, 10),\n",
        "        )\n",
        "\n",
        "    def forward(self, x):\n",
        "        x = self.flatten(x)\n",
        "        output = self.sequential(x)\n",
        "\n",
        "        return output\n"
      ],
      "metadata": {
        "id": "-tuKBD1KjLpc"
      },
      "execution_count": 8,
      "outputs": []
    },
    {
      "cell_type": "code",
      "source": [
        "def train(model, dataloader, criterion, optimizer, n_epochs=20):\n",
        "    model.train()\n",
        "\n",
        "    size = len(dataloader.dataset)\n",
        "    epoch_loss = []\n",
        "\n",
        "    for epoch in range(1, n_epochs):\n",
        "        for batch, (X, y) in enumerate(dataloader):\n",
        "            # Feed forward - calculate prediction and loss\n",
        "            pred = model(X)\n",
        "            loss = criterion(pred, y)\n",
        "\n",
        "            # Backpropogation - set weights and biases and zero gradients\n",
        "            loss.backward()\n",
        "            optimizer.step()\n",
        "            optimizer.zero_grad()\n",
        "\n",
        "            epoch_loss.append(loss.item())\n",
        "\n",
        "            if batch % 100 == 0:\n",
        "                test_loss = loss.item()\n",
        "                current = (batch + 1) * len(X)\n",
        "\n",
        "                print(f'Epoch {epoch}  Current {current} / {size}  Loss {test_loss}')\n",
        "\n",
        "\n",
        "def test(model, dataloader, criterion):\n",
        "    model.eval()\n",
        "\n",
        "    dataset_suize = len(dataloader.dataset)\n",
        "    num_batches = len(dataloader)\n",
        "    test_loss, correct = 0, 0\n",
        "\n",
        "    with torch.no_grad():\n",
        "        for X, y in dataloader:\n",
        "            pred = model(X)\n",
        "            test_loss += criterion(pred, y).item\n",
        "\n",
        "            correct += (pred.argmax(1 == y)).type(torch.float).sum().item()\n",
        "\n",
        "    print(f'Correct {correct} / {size}  Loss {test_loss}')\n",
        "\n"
      ],
      "metadata": {
        "id": "beod1gkXBE3m"
      },
      "execution_count": 14,
      "outputs": []
    },
    {
      "cell_type": "code",
      "source": [
        "n_epochs = 20\n",
        "lr = 0.01\n",
        "\n",
        "model = FeedForwardNet()\n",
        "criterion = nn.CrossEntropyLoss()\n",
        "optim = torch.optim.SGD(model.parameters(), lr=lr)\n",
        "\n",
        "training_dataloader, test_dataloader = get_dataloaders(visualize=True)\n",
        "\n",
        "train(model, training_dataloader, criterion, optim, n_epochs)\n",
        "\n",
        "test(model, test_dataloader, criterion)\n"
      ],
      "metadata": {
        "colab": {
          "base_uri": "https://localhost:8080/",
          "height": 800
        },
        "id": "F3xtv6Uff7R6",
        "outputId": "001f9d05-4eb4-4dda-d255-6550246a3cde"
      },
      "execution_count": null,
      "outputs": [
        {
          "output_type": "display_data",
          "data": {
            "text/plain": [
              "<Figure size 800x800 with 9 Axes>"
            ],
            "image/png": "[encoded data removed]"
          },
          "metadata": {}
        },
        {
          "output_type": "stream",
          "name": "stdout",
          "text": [
            "Epoch 1  Current 64 / 60000  Loss 2.3167505264282227\n",
            "Epoch 1  Current 6464 / 60000  Loss 1.803034782409668\n",
            "Epoch 1  Current 12864 / 60000  Loss 1.3491581678390503\n",
            "Epoch 1  Current 19264 / 60000  Loss 1.230495810508728\n",
            "Epoch 1  Current 25664 / 60000  Loss 0.819320559501648\n",
            "Epoch 1  Current 32064 / 60000  Loss 1.006289005279541\n",
            "Epoch 1  Current 38464 / 60000  Loss 0.8446201086044312\n"
          ]
        }
      ]
    }
  ]
}